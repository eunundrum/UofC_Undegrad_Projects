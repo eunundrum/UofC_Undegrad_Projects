{
 "metadata": {
  "language_info": {
   "codemirror_mode": {
    "name": "ipython",
    "version": 3
   },
   "file_extension": ".py",
   "mimetype": "text/x-python",
   "name": "python",
   "nbconvert_exporter": "python",
   "pygments_lexer": "ipython3",
   "version": "3.8.3-final"
  },
  "orig_nbformat": 2,
  "kernelspec": {
   "name": "python_defaultSpec_1600441981121",
   "display_name": "Python 3.8.3 64-bit (conda)"
  }
 },
 "nbformat": 4,
 "nbformat_minor": 2,
 "cells": [
  {
   "source": [
    "## Assignment #2: Spamlet-Entropy-Monkeys\n",
    "## PHYS481 FALL2020\n",
    "## Yauheni Kalionau (30062335)"
   ],
   "cell_type": "code",
   "metadata": {},
   "execution_count": null,
   "outputs": []
  },
  {
   "source": [
    "## Introduction:\n",
    "Dealing with probabilty can be quite complicated for humans since the concept itself is not intuitively understandable (just a natural feature of being a human). That's why using computers is a great idea when it comes to statistically analyzing given sets of data. Quite often, certain data follows a statistical distribution which can be expressed as a mathematical expression (Bernoulli, Hypogeometrical, Gaussian, etc.) and thus many statistically-important variables can be derived from them (eg. standart deviation). This lab explores an interesting example of probabilistical distribution - \"The infinite monkey theorem\", which basically proclaims that every possible outcome of the experiment is possible, given that number of trials is infinite and the experiment can go on for an infinite amount of time. Tthe purpose will be to compare different probability distributions when applied to spamlet (\"Simplified Hamplet\"), and to calculate entropy associated with those distributions."
   ],
   "cell_type": "markdown",
   "metadata": {}
  },
  {
   "source": [
    "## Question #1:\n"
   ],
   "cell_type": "markdown",
   "metadata": {}
  },
  {
   "cell_type": "code",
   "execution_count": 1,
   "metadata": {
    "tags": []
   },
   "outputs": [
    {
     "output_type": "stream",
     "name": "stdout",
     "text": "Number of characters in spamlet (including spaces, but ommiting punctuation signs): 181732\nEntropy of a spamlet in bits per character: 22183.66760491477\n"
    }
   ],
   "source": [
    "import urllib.request\n",
    "import numpy as np\n",
    "import mpmath \n",
    "import math as math\n",
    "\n",
    "#Accesing file from the 'url':\n",
    "url = r'http://www.gutenberg.org/files/1524/1524-0.txt'\n",
    "bytedata = urllib.request.urlopen( url ).read()\n",
    "data = bytedata.decode()\n",
    "charlist = [c.lower() for c in data if c.isalpha() or c==' ']\n",
    "nchars = len(charlist)\n",
    "\n",
    "#Calculating probability of each letter/space occuring at any given position:\n",
    "prob = 1.0/27\n",
    "\n",
    "#A list with the factor after \"sum\" sign in Shannon's equation:\n",
    "list_to_sum = []\n",
    "for elem in range(nchars):\n",
    "    list_to_sum.append(-np.log(prob)*prob)\n",
    "\n",
    "#Shannon's Entropy = sum of all elements in the list above:\n",
    "entropy = np.sum(list_to_sum)\n",
    "\n",
    "print(\"Number of characters in spamlet (including spaces, but ommiting punctuation signs):\", nchars)\n",
    "print(\"Entropy of a spamlet in bits per character:\", entropy)\n",
    "\n",
    "\n",
    "#Might be loading longer than expected. Be patient.\n"
   ]
  },
  {
   "source": [
    "## Question #2: \n",
    "Total number of possible sequences with 167774 characters and the probability of typing any single one of them if you were to hit the keyboard 167774 times randomly."
   ],
   "cell_type": "markdown",
   "metadata": {}
  },
  {
   "cell_type": "code",
   "execution_count": 25,
   "metadata": {
    "tags": []
   },
   "outputs": [
    {
     "output_type": "stream",
     "name": "stdout",
     "text": "Probability of typing a specific sequence of 167774 characters if you were to hit keyboard 167774 times randomly: 2.37592096671345e-240146\nThere are 4.20889420986911e+240145 different sequences with 167774 characters.\n"
    }
   ],
   "source": [
    "# number of characters:\n",
    "n = 167774\n",
    "\n",
    "# probability of a single character occuring at position \"n\":\n",
    "prob_single = mpmath.mpf(1.0)/mpmath.mpf(27.0)\n",
    "\n",
    "# total probability is just the probability of a single character raised to the power of number of characters since prob_single is independent \n",
    "# for each character:\n",
    "tot_prob = prob_single**n\n",
    "\n",
    "# The biggest possible number of combinations that can be made of \"n\" characters:\n",
    "totcomb = mpmath.mpf(27.0)**n\n",
    "\n",
    "print(\"Probability of typing a specific sequence of\",n,\"characters if you were to hit keyboard\",n,\"times randomly:\", tot_prob)\n",
    "print(\"There are\", totcomb, \"different sequences with\", n,\"characters.\")\n"
   ]
  },
  {
   "source": [
    "## Question #3: \n",
    "Probability of typing a specific sequence with 167774 characters if you were to hit the keyboard 167774 times randomly, but for the actual probability distrubution of spamlet.\n"
   ],
   "cell_type": "markdown",
   "metadata": {}
  },
  {
   "cell_type": "code",
   "execution_count": 62,
   "metadata": {
    "tags": []
   },
   "outputs": [
    {
     "output_type": "stream",
     "name": "stdout",
     "text": "The probability of typing 167774 symbols in a specific sequence for an actual spamplet distribution is: 2.90906943084119e-234324\n"
    }
   ],
   "source": [
    "# Catalog with all possible characters from spamlet and number of times they occur:\n",
    "catalog = {}\n",
    "for symbol in charlist:\n",
    "    if symbol in catalog:\n",
    "        catalog[symbol] += 1  \n",
    "    else:\n",
    "        catalog[symbol] = 1 \n",
    "\n",
    "# Deleting weird non-letter symbols from catalog:\n",
    "catalog.pop('æ')\n",
    "catalog.pop('à')           \n",
    "\n",
    "#conditional probabilty: (prob to type any letter or space out of 27)x(prob that out of 167774 characters this letter will occur N times)\n",
    "prob = {}           \n",
    "for elem in catalog:\n",
    "    prob[elem] = mpmath.mpf((1.0/27.0)*(catalog[elem]/n))\n",
    "\n",
    "#Creating a list \"prob_list\" which is basically needed to perform multiplication of elements in the dictionary \"prob\"\n",
    "prob_list = []                                      \n",
    "for value in prob:\n",
    "    prob_list.append(prob[value])\n",
    "\n",
    "#probability that any outcome will happen n-times.\n",
    "tot_prob = mpmath.mpf(np.sum(prob_list))**n    \n",
    "                    \n",
    "print(\"The probability of typing 167774 symbols in a specific sequence for an actual spamplet distribution is:\",tot_prob)\n",
    "        "
   ]
  },
  {
   "source": [
    "## Question #4: \n",
    "Probability of typing each 2-key sequence from spamlet.\n"
   ],
   "cell_type": "markdown",
   "metadata": {}
  },
  {
   "cell_type": "code",
   "execution_count": 78,
   "metadata": {
    "tags": []
   },
   "outputs": [
    {
     "output_type": "stream",
     "name": "stdout",
     "text": "The joint probability of each 2-key sequence from spamlet: 2.37592096672102e-240146\n"
    }
   ],
   "source": [
    "#probability of typing two specific letters in a row. Spaces included.\n",
    "prob = mpmath.mpf(1.0/27.0)**2  \n",
    "\n",
    "#probability of of typing \"n/2\" random sequences each of length 2 in a row. Spaces included.\n",
    "tot_prob = prob**(n/2)\n",
    "\n",
    "print(\"The joint probability of each 2-key sequence from spamlet:\", tot_prob)\n"
   ]
  },
  {
   "source": [
    "Now, the probability of typing \"n/2\" random sequences each of length 2 in a row for an actual distribution of spamlet will be:"
   ],
   "cell_type": "markdown",
   "metadata": {}
  },
  {
   "cell_type": "code",
   "execution_count": 79,
   "metadata": {
    "tags": []
   },
   "outputs": [
    {
     "output_type": "stream",
     "name": "stdout",
     "text": "The joint probability of each 2-key sequence from spamlet for an actual spamplet distribution is: 5.560661280888e-14121187\n"
    }
   ],
   "source": [
    "# A dictionary where each key identifies a unique letter from spamlet, and \n",
    "# each value probability of that letter for an actual spamplet distribution:\n",
    "prob = {}                                                             \n",
    "for elem in catalog:                                                  \n",
    "    prob[elem] = (mpmath.mpf((1.0/27.0)*(catalog[elem]/n)))**2               \n",
    "\n",
    "# since elements in the dictionary cannot be multiplied in a trivial way\n",
    "# I had to transform the dictionary into a list:\n",
    "prob_list = []                                                        \n",
    "for value in prob:                                                    \n",
    "    prob_list.append(prob[value])\n",
    "\n",
    "# Net probability will simply be the product of all probabilities I have calculated \n",
    "# before since the outcome of each trial is independent from the next one:\n",
    "tot_prob = mpmath.mpf(np.prod(prob_list))**(n/2)\n",
    "\n",
    "print(\"The joint probability of each 2-key sequence from spamlet for an actual spamplet distribution is:\",tot_prob)"
   ]
  },
  {
   "source": [
    "## Question #5:\n",
    "Entropy of 2-key sequences in spamlet"
   ],
   "cell_type": "markdown",
   "metadata": {}
  },
  {
   "cell_type": "code",
   "execution_count": 77,
   "metadata": {
    "tags": []
   },
   "outputs": [
    {
     "output_type": "stream",
     "name": "stdout",
     "text": "The entropy of each 2-key sequences in spamlet is: 0.00133710641595483\n"
    }
   ],
   "source": [
    "#A list with the factor after \"sum\" sign in Shannon's equation\n",
    "list_to_sum = []\n",
    "for prob in prob_list:\n",
    "    list_to_sum.append(-mpmath.log(prob)*prob)\n",
    "\n",
    "# Now, entropy is simply the sum of elements in the \"list_to_sum\":\n",
    "entropy = np.sum(list_to_sum)\n",
    "\n",
    "print(\"The entropy of each 2-key sequences in spamlet is:\",entropy)"
   ]
  },
  {
   "source": [
    "## Discussion and conclusion:\n",
    "Probabilities are not intuitively understandable for humans and sometimes too rigorous thinking about and attempts to visualize them can lead to even greater confusion instead of clarification. I should admit that I had diffuclties with this assignment, not with the coding part, but with the question of understanding the way probabilities of independent events interact with each other. It was quite interesting to explore limitations of float type of data in Python, what is quite relevant since probabilites of highly unlikely events tend to decrease extremely fast. I am gratefull to authors of \"mpfmath\" package for bringing those tools to Python community as well. Finally, I think it's a great thought experiment to consider than any possible outcome is likely to occur given that number of trials and the timespan are infinite (\"Infinite Monkey Theorem\"). Also, I think it's crucial to develop a comprehensive understanding of entropy for any scientist since it looks like one of the most fundamental laws according to which nature exists. I will appreciate if you could give me feedback on points where I made mistakes."
   ],
   "cell_type": "markdown",
   "metadata": {}
  }
 ]
}