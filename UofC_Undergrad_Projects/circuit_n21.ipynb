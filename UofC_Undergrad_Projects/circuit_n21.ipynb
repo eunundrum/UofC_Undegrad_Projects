{
 "cells": [
  {
   "cell_type": "markdown",
   "source": [
    "## Circuit for factorizing N = 21 quantum using BQC protocol as suggested by Aritra Das."
   ],
   "metadata": {}
  },
  {
   "cell_type": "code",
   "execution_count": 2,
   "source": [
    "from qiskit import QuantumRegister, ClassicalRegister, QuantumCircuit\r\n",
    "from qiskit import Aer, execute\r\n",
    "from qiskit.tools.visualization import plot_histogram\r\n",
    "from qiskit.circuit.library import CPhaseGate\r\n",
    "from fractions import Fraction\r\n",
    "from math import gcd\r\n",
    "import pandas as pd\r\n",
    "import numpy"
   ],
   "outputs": [],
   "metadata": {}
  },
  {
   "cell_type": "code",
   "execution_count": 3,
   "source": [
    "def circuit21A(qreg_q):\r\n",
    "\r\n",
    "    'A-computation'\r\n",
    "\r\n",
    "    qc = QuantumCircuit(qreg_q)\r\n",
    "    qc.h(qreg_q[0])\r\n",
    "    qc.h(qreg_q[1])\r\n",
    "    qc.x(qreg_q[-1])\r\n",
    "    qc.cx(qreg_q[1], qreg_q[3])\r\n",
    "    qc.cx(qreg_q[0], qreg_q[2])\r\n",
    "    qc.cx(qreg_q[1], qreg_q[-1])\r\n",
    "    qc.cx(qreg_q[0], qreg_q[-1])\r\n",
    "    qc.measure_all()\r\n",
    "   \r\n",
    "\r\n",
    "\r\n",
    "    return qc"
   ],
   "outputs": [],
   "metadata": {}
  },
  {
   "cell_type": "code",
   "execution_count": 4,
   "source": [
    "def circuit21B(qreg_q):\r\n",
    "\r\n",
    "    'B-computation'\r\n",
    "\r\n",
    "    qc = QuantumCircuit(qreg_q)\r\n",
    "    qc.ccx(qreg_q[0], qreg_q[1], qreg_q[3])\r\n",
    "    qc.ccx(qreg_q[0], qreg_q[1], qreg_q[2])\r\n",
    "    qc.h(qreg_q[0])\r\n",
    "    S_control = CPhaseGate(90).control(0)\r\n",
    "    qc.append(S_control, [qreg_q[0], qreg_q[1]])\r\n",
    "    qc.h(qreg_q[1])\r\n",
    "    qc.measure_all()\r\n",
    "    \r\n",
    "\r\n",
    "\r\n",
    "    return qc"
   ],
   "outputs": [],
   "metadata": {}
  },
  {
   "cell_type": "code",
   "execution_count": 5,
   "source": [
    "qreg_q = QuantumRegister(5, 'q')\r\n",
    "circuitA = circuit21A(qreg_q)\r\n",
    "circuitB = circuit21B(qreg_q)"
   ],
   "outputs": [],
   "metadata": {}
  },
  {
   "cell_type": "code",
   "execution_count": 6,
   "source": [
    "circuitA.draw()\r\n"
   ],
   "outputs": [
    {
     "output_type": "execute_result",
     "data": {
      "text/html": [
       "<pre style=\"word-wrap: normal;white-space: pre;background: #fff0;line-height: 1.1;font-family: &quot;Courier New&quot;,Courier,monospace\">        ┌───┐                     ░ ┌─┐            \n",
       "   q_0: ┤ H ├───────■─────────■───░─┤M├────────────\n",
       "        ├───┤       │         │   ░ └╥┘┌─┐         \n",
       "   q_1: ┤ H ├──■────┼────■────┼───░──╫─┤M├─────────\n",
       "        └───┘  │  ┌─┴─┐  │    │   ░  ║ └╥┘┌─┐      \n",
       "   q_2: ───────┼──┤ X ├──┼────┼───░──╫──╫─┤M├──────\n",
       "             ┌─┴─┐└───┘  │    │   ░  ║  ║ └╥┘┌─┐   \n",
       "   q_3: ─────┤ X ├───────┼────┼───░──╫──╫──╫─┤M├───\n",
       "        ┌───┐└───┘     ┌─┴─┐┌─┴─┐ ░  ║  ║  ║ └╥┘┌─┐\n",
       "   q_4: ┤ X ├──────────┤ X ├┤ X ├─░──╫──╫──╫──╫─┤M├\n",
       "        └───┘          └───┘└───┘ ░  ║  ║  ║  ║ └╥┘\n",
       "meas: 5/═════════════════════════════╩══╩══╩══╩══╩═\n",
       "                                     0  1  2  3  4 </pre>"
      ],
      "text/plain": [
       "        ┌───┐                     ░ ┌─┐            \n",
       "   q_0: ┤ H ├───────■─────────■───░─┤M├────────────\n",
       "        ├───┤       │         │   ░ └╥┘┌─┐         \n",
       "   q_1: ┤ H ├──■────┼────■────┼───░──╫─┤M├─────────\n",
       "        └───┘  │  ┌─┴─┐  │    │   ░  ║ └╥┘┌─┐      \n",
       "   q_2: ───────┼──┤ X ├──┼────┼───░──╫──╫─┤M├──────\n",
       "             ┌─┴─┐└───┘  │    │   ░  ║  ║ └╥┘┌─┐   \n",
       "   q_3: ─────┤ X ├───────┼────┼───░──╫──╫──╫─┤M├───\n",
       "        ┌───┐└───┘     ┌─┴─┐┌─┴─┐ ░  ║  ║  ║ └╥┘┌─┐\n",
       "   q_4: ┤ X ├──────────┤ X ├┤ X ├─░──╫──╫──╫──╫─┤M├\n",
       "        └───┘          └───┘└───┘ ░  ║  ║  ║  ║ └╥┘\n",
       "meas: 5/═════════════════════════════╩══╩══╩══╩══╩═\n",
       "                                     0  1  2  3  4 "
      ]
     },
     "metadata": {},
     "execution_count": 6
    }
   ],
   "metadata": {}
  },
  {
   "cell_type": "code",
   "execution_count": 7,
   "source": [
    "circuitB.draw()"
   ],
   "outputs": [
    {
     "output_type": "execute_result",
     "data": {
      "text/html": [
       "<pre style=\"word-wrap: normal;white-space: pre;background: #fff0;line-height: 1.1;font-family: &quot;Courier New&quot;,Courier,monospace\">                  ┌───┐              ░ ┌─┐            \n",
       "   q_0: ──■────■──┤ H ├─■────────────░─┤M├────────────\n",
       "          │    │  └───┘ │P(90) ┌───┐ ░ └╥┘┌─┐         \n",
       "   q_1: ──■────■────────■──────┤ H ├─░──╫─┤M├─────────\n",
       "          │  ┌─┴─┐             └───┘ ░  ║ └╥┘┌─┐      \n",
       "   q_2: ──┼──┤ X ├───────────────────░──╫──╫─┤M├──────\n",
       "        ┌─┴─┐└───┘                   ░  ║  ║ └╥┘┌─┐   \n",
       "   q_3: ┤ X ├────────────────────────░──╫──╫──╫─┤M├───\n",
       "        └───┘                        ░  ║  ║  ║ └╥┘┌─┐\n",
       "   q_4: ─────────────────────────────░──╫──╫──╫──╫─┤M├\n",
       "                                     ░  ║  ║  ║  ║ └╥┘\n",
       "meas: 5/════════════════════════════════╩══╩══╩══╩══╩═\n",
       "                                        0  1  2  3  4 </pre>"
      ],
      "text/plain": [
       "                  ┌───┐              ░ ┌─┐            \n",
       "   q_0: ──■────■──┤ H ├─■────────────░─┤M├────────────\n",
       "          │    │  └───┘ │P(90) ┌───┐ ░ └╥┘┌─┐         \n",
       "   q_1: ──■────■────────■──────┤ H ├─░──╫─┤M├─────────\n",
       "          │  ┌─┴─┐             └───┘ ░  ║ └╥┘┌─┐      \n",
       "   q_2: ──┼──┤ X ├───────────────────░──╫──╫─┤M├──────\n",
       "        ┌─┴─┐└───┘                   ░  ║  ║ └╥┘┌─┐   \n",
       "   q_3: ┤ X ├────────────────────────░──╫──╫──╫─┤M├───\n",
       "        └───┘                        ░  ║  ║  ║ └╥┘┌─┐\n",
       "   q_4: ─────────────────────────────░──╫──╫──╫──╫─┤M├\n",
       "                                     ░  ║  ║  ║  ║ └╥┘\n",
       "meas: 5/════════════════════════════════╩══╩══╩══╩══╩═\n",
       "                                        0  1  2  3  4 "
      ]
     },
     "metadata": {},
     "execution_count": 7
    }
   ],
   "metadata": {}
  },
  {
   "cell_type": "code",
   "execution_count": 34,
   "source": [
    "#Phase estimation step:\r\n",
    "backend = Aer.get_backend('qasm_simulator')\r\n",
    "resultsA = execute(circuitA, backend).result()\r\n",
    "resultsB = execute(circuitB, backend).result()\r\n",
    "countsA = resultsA.get_counts()\r\n",
    "countsB = resultsB.get_counts()\r\n",
    "plot_histogram(countsA)\r\n"
   ],
   "outputs": [
    {
     "output_type": "execute_result",
     "data": {
      "image/png": "[encoded data removed]",
      "text/plain": [
       "<Figure size 504x360 with 1 Axes>"
      ]
     },
     "metadata": {},
     "execution_count": 34
    }
   ],
   "metadata": {}
  },
  {
   "cell_type": "code",
   "execution_count": 37,
   "source": [
    "plot_histogram(countsB)"
   ],
   "outputs": [
    {
     "output_type": "execute_result",
     "data": {
      "image/png": "[encoded data removed]",
      "text/plain": [
       "<Figure size 504x360 with 1 Axes>"
      ]
     },
     "metadata": {},
     "execution_count": 37
    }
   ],
   "metadata": {}
  },
  {
   "cell_type": "code",
   "execution_count": 41,
   "source": [
    "n_count = 5\r\n",
    "rows, measured_phases = [], []\r\n",
    "for output in countsB:\r\n",
    "    decimal = int(output, 2)  # Convert (base 2) string to decimal\r\n",
    "    phase = decimal/(2**n_count)  # Find corresponding eigenvalue\r\n",
    "    measured_phases.append(phase)\r\n",
    "    # Add these values to the rows in our table:\r\n",
    "    rows.append([f\"{output}(bin) = {decimal:>3}(dec)\", \r\n",
    "                 f\"{decimal}/{2**n_count} = {phase:.2f}\"])\r\n",
    "# Print the rows in a table\r\n",
    "headers=[\"Register Output\", \"Phase\"]\r\n",
    "df = pd.DataFrame(rows, columns=headers)\r\n",
    "print(df)\r\n",
    "rows = []\r\n",
    "for phase in measured_phases:\r\n",
    "    frac = Fraction(phase).limit_denominator(21)\r\n",
    "    rows.append([phase, f\"{frac.numerator}/{frac.denominator}\", frac.denominator])\r\n",
    "# Print as a table\r\n",
    "headers=[\"Phase\", \"Fraction\", \"Guess for r\"]\r\n",
    "df = pd.DataFrame(rows, columns=headers)\r\n",
    "print(df)"
   ],
   "outputs": [
    {
     "output_type": "stream",
     "name": "stdout",
     "text": [
      "         Register Output        Phase\n",
      "0  00001(bin) =   1(dec)  1/32 = 0.03\n",
      "1  00010(bin) =   2(dec)  2/32 = 0.06\n",
      "2  00011(bin) =   3(dec)  3/32 = 0.09\n",
      "3  00000(bin) =   0(dec)  0/32 = 0.00\n",
      "     Phase Fraction  Guess for r\n",
      "0  0.03125     1/21           21\n",
      "1  0.06250     1/16           16\n",
      "2  0.09375     2/21           21\n",
      "3  0.00000      0/1            1\n"
     ]
    }
   ],
   "metadata": {}
  },
  {
   "cell_type": "code",
   "execution_count": 45,
   "source": [
    "a = 4\r\n",
    "r = 21\r\n",
    "N = 21\r\n",
    "guesses = [gcd(a**(r//2)-1, N), gcd(a**(r//2)+1, N)]\r\n",
    "print(guesses)"
   ],
   "outputs": [
    {
     "output_type": "stream",
     "name": "stdout",
     "text": [
      "[3, 1]\n"
     ]
    }
   ],
   "metadata": {}
  }
 ],
 "metadata": {
  "orig_nbformat": 4,
  "language_info": {
   "name": "python",
   "version": "3.8.3",
   "mimetype": "text/x-python",
   "codemirror_mode": {
    "name": "ipython",
    "version": 3
   },
   "pygments_lexer": "ipython3",
   "nbconvert_exporter": "python",
   "file_extension": ".py"
  },
  "kernelspec": {
   "name": "python3",
   "display_name": "Python 3.8.3 64-bit ('base': conda)"
  },
  "interpreter": {
   "hash": "aef926c5c1519a18e430189aeb51b386ce8828f1bb41401b2c5f054a5f00d818"
  }
 },
 "nbformat": 4,
 "nbformat_minor": 2
}